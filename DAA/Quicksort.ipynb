{
 "cells": [
  {
   "cell_type": "code",
   "execution_count": 1,
   "id": "9e9e6c34",
   "metadata": {},
   "outputs": [
    {
     "name": "stdout",
     "output_type": "stream",
     "text": [
      "Press Ctrl+C to exit...\n",
      "Enter array1 2 8 6 3 9\n",
      "Deterministic variant of sort\n",
      "[1, 2, 3, 6, 8, 9]\n",
      "Radomized variant of sort\n",
      "[1, 2, 3, 6, 8, 9]\n",
      "Press Ctrl+C to exit...\n",
      "Enter array1 5 2 4 9 7 3\n",
      "Deterministic variant of sort\n",
      "[1, 2, 3, 4, 5, 7, 9]\n",
      "Radomized variant of sort\n",
      "[1, 2, 3, 4, 5, 7, 9]\n",
      "Press Ctrl+C to exit...\n",
      "Enter array1 , 5 \n"
     ]
    },
    {
     "ename": "ValueError",
     "evalue": "invalid literal for int() with base 10: ','",
     "output_type": "error",
     "traceback": [
      "\u001b[1;31m---------------------------------------------------------------------------\u001b[0m",
      "\u001b[1;31mValueError\u001b[0m                                Traceback (most recent call last)",
      "\u001b[1;32m~\\AppData\\Local\\Temp\\ipykernel_8216\\1605583334.py\u001b[0m in \u001b[0;36m<module>\u001b[1;34m\u001b[0m\n\u001b[0;32m     51\u001b[0m \u001b[1;32mwhile\u001b[0m \u001b[1;32mTrue\u001b[0m\u001b[1;33m:\u001b[0m\u001b[1;33m\u001b[0m\u001b[1;33m\u001b[0m\u001b[0m\n\u001b[0;32m     52\u001b[0m     \u001b[0mprint\u001b[0m\u001b[1;33m(\u001b[0m\u001b[1;34m\"Press Ctrl+C to exit...\"\u001b[0m\u001b[1;33m)\u001b[0m\u001b[1;33m\u001b[0m\u001b[1;33m\u001b[0m\u001b[0m\n\u001b[1;32m---> 53\u001b[1;33m     \u001b[0marray\u001b[0m \u001b[1;33m=\u001b[0m \u001b[1;33m[\u001b[0m\u001b[0mint\u001b[0m\u001b[1;33m(\u001b[0m\u001b[0mi\u001b[0m\u001b[1;33m)\u001b[0m \u001b[1;32mfor\u001b[0m \u001b[0mi\u001b[0m \u001b[1;32min\u001b[0m \u001b[0minput\u001b[0m\u001b[1;33m(\u001b[0m\u001b[1;34m\"Enter array\"\u001b[0m\u001b[1;33m)\u001b[0m\u001b[1;33m.\u001b[0m\u001b[0msplit\u001b[0m\u001b[1;33m(\u001b[0m\u001b[1;34m\" \"\u001b[0m\u001b[1;33m)\u001b[0m\u001b[1;33m]\u001b[0m\u001b[1;33m\u001b[0m\u001b[1;33m\u001b[0m\u001b[0m\n\u001b[0m\u001b[0;32m     54\u001b[0m     \u001b[0mprint\u001b[0m\u001b[1;33m(\u001b[0m\u001b[1;34m\"Deterministic variant of sort\"\u001b[0m\u001b[1;33m)\u001b[0m\u001b[1;33m\u001b[0m\u001b[1;33m\u001b[0m\u001b[0m\n\u001b[0;32m     55\u001b[0m     \u001b[0msort1\u001b[0m \u001b[1;33m=\u001b[0m \u001b[0mQuickSort\u001b[0m\u001b[1;33m(\u001b[0m\u001b[0marray\u001b[0m\u001b[1;33m)\u001b[0m\u001b[1;33m\u001b[0m\u001b[1;33m\u001b[0m\u001b[0m\n",
      "\u001b[1;32m~\\AppData\\Local\\Temp\\ipykernel_8216\\1605583334.py\u001b[0m in \u001b[0;36m<listcomp>\u001b[1;34m(.0)\u001b[0m\n\u001b[0;32m     51\u001b[0m \u001b[1;32mwhile\u001b[0m \u001b[1;32mTrue\u001b[0m\u001b[1;33m:\u001b[0m\u001b[1;33m\u001b[0m\u001b[1;33m\u001b[0m\u001b[0m\n\u001b[0;32m     52\u001b[0m     \u001b[0mprint\u001b[0m\u001b[1;33m(\u001b[0m\u001b[1;34m\"Press Ctrl+C to exit...\"\u001b[0m\u001b[1;33m)\u001b[0m\u001b[1;33m\u001b[0m\u001b[1;33m\u001b[0m\u001b[0m\n\u001b[1;32m---> 53\u001b[1;33m     \u001b[0marray\u001b[0m \u001b[1;33m=\u001b[0m \u001b[1;33m[\u001b[0m\u001b[0mint\u001b[0m\u001b[1;33m(\u001b[0m\u001b[0mi\u001b[0m\u001b[1;33m)\u001b[0m \u001b[1;32mfor\u001b[0m \u001b[0mi\u001b[0m \u001b[1;32min\u001b[0m \u001b[0minput\u001b[0m\u001b[1;33m(\u001b[0m\u001b[1;34m\"Enter array\"\u001b[0m\u001b[1;33m)\u001b[0m\u001b[1;33m.\u001b[0m\u001b[0msplit\u001b[0m\u001b[1;33m(\u001b[0m\u001b[1;34m\" \"\u001b[0m\u001b[1;33m)\u001b[0m\u001b[1;33m]\u001b[0m\u001b[1;33m\u001b[0m\u001b[1;33m\u001b[0m\u001b[0m\n\u001b[0m\u001b[0;32m     54\u001b[0m     \u001b[0mprint\u001b[0m\u001b[1;33m(\u001b[0m\u001b[1;34m\"Deterministic variant of sort\"\u001b[0m\u001b[1;33m)\u001b[0m\u001b[1;33m\u001b[0m\u001b[1;33m\u001b[0m\u001b[0m\n\u001b[0;32m     55\u001b[0m     \u001b[0msort1\u001b[0m \u001b[1;33m=\u001b[0m \u001b[0mQuickSort\u001b[0m\u001b[1;33m(\u001b[0m\u001b[0marray\u001b[0m\u001b[1;33m)\u001b[0m\u001b[1;33m\u001b[0m\u001b[1;33m\u001b[0m\u001b[0m\n",
      "\u001b[1;31mValueError\u001b[0m: invalid literal for int() with base 10: ','"
     ]
    }
   ],
   "source": [
    "import random\n",
    "\n",
    "\n",
    "class QuickSort:\n",
    "    def __init__(self,array):\n",
    "        self.array = array\n",
    "    \n",
    "\n",
    "    # Deterministic method to find pivot\n",
    "    def partition(self,low,high):\n",
    "        # High element is default pivot\n",
    "        pivot = self.array[high]\n",
    "\n",
    "        # pointer for greater element\n",
    "        i = low - 1\n",
    "\n",
    "\n",
    "        for j in range(low,high):\n",
    "            if self.array[j] <= pivot:\n",
    "                # if element smaller than pivot is found\n",
    "                # swap it with the greater element pointed by i\n",
    "                i += 1\n",
    "                self.array[i],self.array[j] = self.array[j],self.array[i]\n",
    "        # swap the pivot element with the greater element specified by i\n",
    "        self.array[i+1],self.array[high] = self.array[high],self.array[i+1]\n",
    "\n",
    "        return i+1\n",
    "    \n",
    "    def partition_random(self,low,high):\n",
    "        pivot = random.randint(low,high)\n",
    "        self.array[pivot],self.array[high] = self.array[high],self.array[pivot]\n",
    "        return self.partition(low,high)\n",
    "    \n",
    "    # deterministic variant of sort\n",
    "    def sort_d(self,low,high):\n",
    "        if low < high:\n",
    "\n",
    "            pivot = self.partition(low,high)\n",
    "            self.sort_d(low,pivot-1)\n",
    "            self.sort_d(pivot+1,high)\n",
    "    \n",
    "    \n",
    "    # random variant of sort\n",
    "    def sort_r(self,low,high):\n",
    "        if low < high:\n",
    "            pivot = self.partition_random(low,high)\n",
    "            self.sort_r(low,pivot-1)\n",
    "            self.sort_r(pivot+1,high)\n",
    "\n",
    "\n",
    "while True:\n",
    "    print(\"Press Ctrl+C to exit...\")\n",
    "    array = [int(i) for i in input(\"Enter array\").split(\" \")]\n",
    "    print(\"Deterministic variant of sort\")\n",
    "    sort1 = QuickSort(array)\n",
    "    sort1.sort_d(0,len(array)-1)\n",
    "    print(sort1.array)\n",
    "    print(\"Radomized variant of sort\")\n",
    "    sort2 = QuickSort(array)\n",
    "    sort2.sort_r(0,len(array)-1)\n",
    "    print(sort2.array)"
   ]
  },
  {
   "cell_type": "code",
   "execution_count": null,
   "id": "3f1ebf5b",
   "metadata": {},
   "outputs": [],
   "source": []
  }
 ],
 "metadata": {
  "kernelspec": {
   "display_name": "Python 3 (ipykernel)",
   "language": "python",
   "name": "python3"
  },
  "language_info": {
   "codemirror_mode": {
    "name": "ipython",
    "version": 3
   },
   "file_extension": ".py",
   "mimetype": "text/x-python",
   "name": "python",
   "nbconvert_exporter": "python",
   "pygments_lexer": "ipython3",
   "version": "3.9.13"
  }
 },
 "nbformat": 4,
 "nbformat_minor": 5
}
