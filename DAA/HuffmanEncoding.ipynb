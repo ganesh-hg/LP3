{
 "cells": [
  {
   "cell_type": "code",
   "execution_count": 2,
   "id": "95495be8",
   "metadata": {},
   "outputs": [
    {
     "name": "stdout",
     "output_type": "stream",
     "text": [
      "f -> 0\n",
      "c -> 100\n",
      "d -> 101\n",
      "a -> 1100\n",
      "b -> 1101\n",
      "e -> 111\n"
     ]
    }
   ],
   "source": [
    "import heapq\n",
    "\n",
    "class Node:\n",
    "    def __init__(self, freq, symbol, left=None, right=None):\n",
    "        self.freq = freq\n",
    "        self.symbol = symbol\n",
    "        self.left = left\n",
    "        self.right = right\n",
    "        self.huff = ''\n",
    "\n",
    "    def __lt__(self, nxt):\n",
    "        return self.freq < nxt.freq\n",
    "\n",
    "# Utility function to print Huffman codes for all symbols in the newly created Huffman tree\n",
    "def printNodes(node, val=''):\n",
    "    newVal = val + str(node.huff)\n",
    "\n",
    "    if node.left:\n",
    "        printNodes(node.left, newVal)\n",
    "    if node.right:\n",
    "        printNodes(node.right, newVal)\n",
    "\n",
    "    if not node.left and not node.right:\n",
    "        print(f\"{node.symbol} -> {newVal}\")\n",
    "\n",
    "# Characters for the Huffman tree\n",
    "chars = ['a', 'b', 'c', 'd', 'e', 'f']\n",
    "\n",
    "# Frequency of characters\n",
    "freq = [5, 9, 12, 13, 16, 45]\n",
    "\n",
    "# List containing unused nodes\n",
    "nodes = []\n",
    "\n",
    "# Converting characters and frequencies into Huffman tree nodes\n",
    "for x in range(len(chars)):\n",
    "    heapq.heappush(nodes, Node(freq[x], chars[x]))\n",
    "\n",
    "while len(nodes) > 1:\n",
    "    left = heapq.heappop(nodes)\n",
    "    right = heapq.heappop(nodes)\n",
    "    left.huff = 0\n",
    "    right.huff = 1\n",
    "    newNode = Node(left.freq + right.freq, left.symbol + right.symbol, left, right)\n",
    "    heapq.heappush(nodes, newNode)\n",
    "\n",
    "printNodes(nodes[0])\n"
   ]
  },
  {
   "cell_type": "code",
   "execution_count": null,
   "id": "cc2efebc",
   "metadata": {},
   "outputs": [],
   "source": []
  }
 ],
 "metadata": {
  "kernelspec": {
   "display_name": "Python 3 (ipykernel)",
   "language": "python",
   "name": "python3"
  },
  "language_info": {
   "codemirror_mode": {
    "name": "ipython",
    "version": 3
   },
   "file_extension": ".py",
   "mimetype": "text/x-python",
   "name": "python",
   "nbconvert_exporter": "python",
   "pygments_lexer": "ipython3",
   "version": "3.9.13"
  }
 },
 "nbformat": 4,
 "nbformat_minor": 5
}
