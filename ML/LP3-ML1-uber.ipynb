{
 "cells": [
  {
   "cell_type": "code",
   "execution_count": 26,
   "metadata": {
    "id": "NdEh2Q0--FfW",
    "scrolled": true
   },
   "outputs": [],
   "source": [
    "#import libraries\n",
    "import pandas as pd\n",
    "import numpy as np\n",
    "import seaborn as sns\n",
    "from haversine import haversine\n",
    "from sklearn.model_selection import train_test_split\n",
    "from sklearn.linear_model import LinearRegression\n",
    "from sklearn.ensemble import RandomForestRegressor\n",
    "from sklearn.metrics import r2_score, mean_squared_error"
   ]
  },
  {
   "cell_type": "code",
   "execution_count": 27,
   "metadata": {},
   "outputs": [
    {
     "name": "stdout",
     "output_type": "stream",
     "text": [
      "Requirement already satisfied: haversine in c:\\users\\ganes\\anaconda3\\lib\\site-packages (2.8.0)\n",
      "Note: you may need to restart the kernel to use updated packages.\n"
     ]
    }
   ],
   "source": [
    "pip install haversine"
   ]
  },
  {
   "cell_type": "code",
   "execution_count": 28,
   "metadata": {
    "id": "b4LFPR3Y-OsN"
   },
   "outputs": [],
   "source": [
    "#load dataset\n",
    "data = pd.read_csv(\"C:\\\\Users\\\\ganes\\\\OneDrive\\\\Desktop\\\\LP3\\\\uber.csv\")"
   ]
  },
  {
   "cell_type": "code",
   "execution_count": 29,
   "metadata": {
    "colab": {
     "base_uri": "https://localhost:8080/",
     "height": 330
    },
    "id": "63i84qjD-QhF",
    "outputId": "be369769-a0b4-4fb5-e40c-c2960a3adf31"
   },
   "outputs": [
    {
     "data": {
      "text/html": [
       "<div>\n",
       "<style scoped>\n",
       "    .dataframe tbody tr th:only-of-type {\n",
       "        vertical-align: middle;\n",
       "    }\n",
       "\n",
       "    .dataframe tbody tr th {\n",
       "        vertical-align: top;\n",
       "    }\n",
       "\n",
       "    .dataframe thead th {\n",
       "        text-align: right;\n",
       "    }\n",
       "</style>\n",
       "<table border=\"1\" class=\"dataframe\">\n",
       "  <thead>\n",
       "    <tr style=\"text-align: right;\">\n",
       "      <th></th>\n",
       "      <th>Unnamed: 0</th>\n",
       "      <th>key</th>\n",
       "      <th>fare_amount</th>\n",
       "      <th>pickup_datetime</th>\n",
       "      <th>pickup_longitude</th>\n",
       "      <th>pickup_latitude</th>\n",
       "      <th>dropoff_longitude</th>\n",
       "      <th>dropoff_latitude</th>\n",
       "      <th>passenger_count</th>\n",
       "    </tr>\n",
       "  </thead>\n",
       "  <tbody>\n",
       "    <tr>\n",
       "      <th>0</th>\n",
       "      <td>24238194</td>\n",
       "      <td>2015-05-07 19:52:06.0000003</td>\n",
       "      <td>7.5</td>\n",
       "      <td>2015-05-07 19:52:06 UTC</td>\n",
       "      <td>-73.999817</td>\n",
       "      <td>40.738354</td>\n",
       "      <td>-73.999512</td>\n",
       "      <td>40.723217</td>\n",
       "      <td>1</td>\n",
       "    </tr>\n",
       "    <tr>\n",
       "      <th>1</th>\n",
       "      <td>27835199</td>\n",
       "      <td>2009-07-17 20:04:56.0000002</td>\n",
       "      <td>7.7</td>\n",
       "      <td>2009-07-17 20:04:56 UTC</td>\n",
       "      <td>-73.994355</td>\n",
       "      <td>40.728225</td>\n",
       "      <td>-73.994710</td>\n",
       "      <td>40.750325</td>\n",
       "      <td>1</td>\n",
       "    </tr>\n",
       "    <tr>\n",
       "      <th>2</th>\n",
       "      <td>44984355</td>\n",
       "      <td>2009-08-24 21:45:00.00000061</td>\n",
       "      <td>12.9</td>\n",
       "      <td>2009-08-24 21:45:00 UTC</td>\n",
       "      <td>-74.005043</td>\n",
       "      <td>40.740770</td>\n",
       "      <td>-73.962565</td>\n",
       "      <td>40.772647</td>\n",
       "      <td>1</td>\n",
       "    </tr>\n",
       "    <tr>\n",
       "      <th>3</th>\n",
       "      <td>25894730</td>\n",
       "      <td>2009-06-26 08:22:21.0000001</td>\n",
       "      <td>5.3</td>\n",
       "      <td>2009-06-26 08:22:21 UTC</td>\n",
       "      <td>-73.976124</td>\n",
       "      <td>40.790844</td>\n",
       "      <td>-73.965316</td>\n",
       "      <td>40.803349</td>\n",
       "      <td>3</td>\n",
       "    </tr>\n",
       "    <tr>\n",
       "      <th>4</th>\n",
       "      <td>17610152</td>\n",
       "      <td>2014-08-28 17:47:00.000000188</td>\n",
       "      <td>16.0</td>\n",
       "      <td>2014-08-28 17:47:00 UTC</td>\n",
       "      <td>-73.925023</td>\n",
       "      <td>40.744085</td>\n",
       "      <td>-73.973082</td>\n",
       "      <td>40.761247</td>\n",
       "      <td>5</td>\n",
       "    </tr>\n",
       "  </tbody>\n",
       "</table>\n",
       "</div>"
      ],
      "text/plain": [
       "   Unnamed: 0                            key  fare_amount  \\\n",
       "0    24238194    2015-05-07 19:52:06.0000003          7.5   \n",
       "1    27835199    2009-07-17 20:04:56.0000002          7.7   \n",
       "2    44984355   2009-08-24 21:45:00.00000061         12.9   \n",
       "3    25894730    2009-06-26 08:22:21.0000001          5.3   \n",
       "4    17610152  2014-08-28 17:47:00.000000188         16.0   \n",
       "\n",
       "           pickup_datetime  pickup_longitude  pickup_latitude  \\\n",
       "0  2015-05-07 19:52:06 UTC        -73.999817        40.738354   \n",
       "1  2009-07-17 20:04:56 UTC        -73.994355        40.728225   \n",
       "2  2009-08-24 21:45:00 UTC        -74.005043        40.740770   \n",
       "3  2009-06-26 08:22:21 UTC        -73.976124        40.790844   \n",
       "4  2014-08-28 17:47:00 UTC        -73.925023        40.744085   \n",
       "\n",
       "   dropoff_longitude  dropoff_latitude  passenger_count  \n",
       "0         -73.999512         40.723217                1  \n",
       "1         -73.994710         40.750325                1  \n",
       "2         -73.962565         40.772647                1  \n",
       "3         -73.965316         40.803349                3  \n",
       "4         -73.973082         40.761247                5  "
      ]
     },
     "execution_count": 29,
     "metadata": {},
     "output_type": "execute_result"
    }
   ],
   "source": [
    "#displaying data\n",
    "data.head()"
   ]
  },
  {
   "cell_type": "code",
   "execution_count": 30,
   "metadata": {
    "colab": {
     "base_uri": "https://localhost:8080/"
    },
    "id": "5xo1gHEObHsI",
    "outputId": "8559f038-38e3-407c-e57e-4c48d8f31bae"
   },
   "outputs": [
    {
     "name": "stdout",
     "output_type": "stream",
     "text": [
      "<class 'pandas.core.frame.DataFrame'>\n",
      "RangeIndex: 200000 entries, 0 to 199999\n",
      "Data columns (total 9 columns):\n",
      " #   Column             Non-Null Count   Dtype  \n",
      "---  ------             --------------   -----  \n",
      " 0   Unnamed: 0         200000 non-null  int64  \n",
      " 1   key                200000 non-null  object \n",
      " 2   fare_amount        200000 non-null  float64\n",
      " 3   pickup_datetime    200000 non-null  object \n",
      " 4   pickup_longitude   200000 non-null  float64\n",
      " 5   pickup_latitude    200000 non-null  float64\n",
      " 6   dropoff_longitude  199999 non-null  float64\n",
      " 7   dropoff_latitude   199999 non-null  float64\n",
      " 8   passenger_count    200000 non-null  int64  \n",
      "dtypes: float64(5), int64(2), object(2)\n",
      "memory usage: 13.7+ MB\n"
     ]
    }
   ],
   "source": [
    "data.info()"
   ]
  },
  {
   "cell_type": "code",
   "execution_count": 31,
   "metadata": {
    "colab": {
     "base_uri": "https://localhost:8080/",
     "height": 320
    },
    "id": "cqLafuk4bMom",
    "outputId": "db8c4f58-783a-4f81-98db-3f1163029f25"
   },
   "outputs": [
    {
     "data": {
      "text/html": [
       "<div>\n",
       "<style scoped>\n",
       "    .dataframe tbody tr th:only-of-type {\n",
       "        vertical-align: middle;\n",
       "    }\n",
       "\n",
       "    .dataframe tbody tr th {\n",
       "        vertical-align: top;\n",
       "    }\n",
       "\n",
       "    .dataframe thead th {\n",
       "        text-align: right;\n",
       "    }\n",
       "</style>\n",
       "<table border=\"1\" class=\"dataframe\">\n",
       "  <thead>\n",
       "    <tr style=\"text-align: right;\">\n",
       "      <th></th>\n",
       "      <th>Unnamed: 0</th>\n",
       "      <th>fare_amount</th>\n",
       "      <th>pickup_longitude</th>\n",
       "      <th>pickup_latitude</th>\n",
       "      <th>dropoff_longitude</th>\n",
       "      <th>dropoff_latitude</th>\n",
       "      <th>passenger_count</th>\n",
       "    </tr>\n",
       "  </thead>\n",
       "  <tbody>\n",
       "    <tr>\n",
       "      <th>count</th>\n",
       "      <td>2.000000e+05</td>\n",
       "      <td>200000.000000</td>\n",
       "      <td>200000.000000</td>\n",
       "      <td>200000.000000</td>\n",
       "      <td>199999.000000</td>\n",
       "      <td>199999.000000</td>\n",
       "      <td>200000.000000</td>\n",
       "    </tr>\n",
       "    <tr>\n",
       "      <th>mean</th>\n",
       "      <td>2.771250e+07</td>\n",
       "      <td>11.359955</td>\n",
       "      <td>-72.527638</td>\n",
       "      <td>39.935885</td>\n",
       "      <td>-72.525292</td>\n",
       "      <td>39.923890</td>\n",
       "      <td>1.684535</td>\n",
       "    </tr>\n",
       "    <tr>\n",
       "      <th>std</th>\n",
       "      <td>1.601382e+07</td>\n",
       "      <td>9.901776</td>\n",
       "      <td>11.437787</td>\n",
       "      <td>7.720539</td>\n",
       "      <td>13.117408</td>\n",
       "      <td>6.794829</td>\n",
       "      <td>1.385997</td>\n",
       "    </tr>\n",
       "    <tr>\n",
       "      <th>min</th>\n",
       "      <td>1.000000e+00</td>\n",
       "      <td>-52.000000</td>\n",
       "      <td>-1340.648410</td>\n",
       "      <td>-74.015515</td>\n",
       "      <td>-3356.666300</td>\n",
       "      <td>-881.985513</td>\n",
       "      <td>0.000000</td>\n",
       "    </tr>\n",
       "    <tr>\n",
       "      <th>25%</th>\n",
       "      <td>1.382535e+07</td>\n",
       "      <td>6.000000</td>\n",
       "      <td>-73.992065</td>\n",
       "      <td>40.734796</td>\n",
       "      <td>-73.991407</td>\n",
       "      <td>40.733823</td>\n",
       "      <td>1.000000</td>\n",
       "    </tr>\n",
       "    <tr>\n",
       "      <th>50%</th>\n",
       "      <td>2.774550e+07</td>\n",
       "      <td>8.500000</td>\n",
       "      <td>-73.981823</td>\n",
       "      <td>40.752592</td>\n",
       "      <td>-73.980093</td>\n",
       "      <td>40.753042</td>\n",
       "      <td>1.000000</td>\n",
       "    </tr>\n",
       "    <tr>\n",
       "      <th>75%</th>\n",
       "      <td>4.155530e+07</td>\n",
       "      <td>12.500000</td>\n",
       "      <td>-73.967154</td>\n",
       "      <td>40.767158</td>\n",
       "      <td>-73.963658</td>\n",
       "      <td>40.768001</td>\n",
       "      <td>2.000000</td>\n",
       "    </tr>\n",
       "    <tr>\n",
       "      <th>max</th>\n",
       "      <td>5.542357e+07</td>\n",
       "      <td>499.000000</td>\n",
       "      <td>57.418457</td>\n",
       "      <td>1644.421482</td>\n",
       "      <td>1153.572603</td>\n",
       "      <td>872.697628</td>\n",
       "      <td>208.000000</td>\n",
       "    </tr>\n",
       "  </tbody>\n",
       "</table>\n",
       "</div>"
      ],
      "text/plain": [
       "         Unnamed: 0    fare_amount  pickup_longitude  pickup_latitude  \\\n",
       "count  2.000000e+05  200000.000000     200000.000000    200000.000000   \n",
       "mean   2.771250e+07      11.359955        -72.527638        39.935885   \n",
       "std    1.601382e+07       9.901776         11.437787         7.720539   \n",
       "min    1.000000e+00     -52.000000      -1340.648410       -74.015515   \n",
       "25%    1.382535e+07       6.000000        -73.992065        40.734796   \n",
       "50%    2.774550e+07       8.500000        -73.981823        40.752592   \n",
       "75%    4.155530e+07      12.500000        -73.967154        40.767158   \n",
       "max    5.542357e+07     499.000000         57.418457      1644.421482   \n",
       "\n",
       "       dropoff_longitude  dropoff_latitude  passenger_count  \n",
       "count      199999.000000     199999.000000    200000.000000  \n",
       "mean          -72.525292         39.923890         1.684535  \n",
       "std            13.117408          6.794829         1.385997  \n",
       "min         -3356.666300       -881.985513         0.000000  \n",
       "25%           -73.991407         40.733823         1.000000  \n",
       "50%           -73.980093         40.753042         1.000000  \n",
       "75%           -73.963658         40.768001         2.000000  \n",
       "max          1153.572603        872.697628       208.000000  "
      ]
     },
     "execution_count": 31,
     "metadata": {},
     "output_type": "execute_result"
    }
   ],
   "source": [
    "data.describe()"
   ]
  },
  {
   "cell_type": "code",
   "execution_count": 32,
   "metadata": {
    "colab": {
     "base_uri": "https://localhost:8080/"
    },
    "id": "2sLklpaF-Sy4",
    "outputId": "78472f60-1848-4e30-a2c7-0ce2156243b4"
   },
   "outputs": [
    {
     "data": {
      "text/plain": [
       "Index(['Unnamed: 0', 'key', 'fare_amount', 'pickup_datetime',\n",
       "       'pickup_longitude', 'pickup_latitude', 'dropoff_longitude',\n",
       "       'dropoff_latitude', 'passenger_count'],\n",
       "      dtype='object')"
      ]
     },
     "execution_count": 32,
     "metadata": {},
     "output_type": "execute_result"
    }
   ],
   "source": [
    "data.columns"
   ]
  },
  {
   "cell_type": "code",
   "execution_count": 33,
   "metadata": {
    "colab": {
     "base_uri": "https://localhost:8080/"
    },
    "id": "JQRoKAaP-bpH",
    "outputId": "811a24fd-347f-4a52-8b60-70eb542aa41e"
   },
   "outputs": [
    {
     "data": {
      "text/plain": [
       "(200000, 9)"
      ]
     },
     "execution_count": 33,
     "metadata": {},
     "output_type": "execute_result"
    }
   ],
   "source": [
    "data.shape"
   ]
  },
  {
   "cell_type": "code",
   "execution_count": 34,
   "metadata": {
    "colab": {
     "base_uri": "https://localhost:8080/"
    },
    "id": "DWhwy1N0-eIv",
    "outputId": "bae43f0d-76c9-4abb-89dc-c6ecfcc20983"
   },
   "outputs": [
    {
     "data": {
      "text/plain": [
       "Unnamed: 0           0\n",
       "key                  0\n",
       "fare_amount          0\n",
       "pickup_datetime      0\n",
       "pickup_longitude     0\n",
       "pickup_latitude      0\n",
       "dropoff_longitude    1\n",
       "dropoff_latitude     1\n",
       "passenger_count      0\n",
       "dtype: int64"
      ]
     },
     "execution_count": 34,
     "metadata": {},
     "output_type": "execute_result"
    }
   ],
   "source": [
    "data.isnull().sum()"
   ]
  },
  {
   "cell_type": "code",
   "execution_count": 35,
   "metadata": {
    "id": "_SX5Iqnb-wyN"
   },
   "outputs": [],
   "source": [
    "#preprocessing\n",
    "#removing null values\n",
    "data['dropoff_longitude'].fillna(value=data['dropoff_longitude'].mean(), inplace=True)\n",
    "data['dropoff_latitude'].fillna(value=data['dropoff_latitude'].mean(), inplace=True)"
   ]
  },
  {
   "cell_type": "code",
   "execution_count": 36,
   "metadata": {
    "id": "ax5wUHXuenVr"
   },
   "outputs": [],
   "source": [
    "#modifying datetime\n",
    "data.pickup_datetime = pd.to_datetime(data.pickup_datetime)\n",
    "data['hour'] = data.pickup_datetime.dt.hour\n",
    "data['day'] = data.pickup_datetime.dt.day\n",
    "data['month'] = data.pickup_datetime.dt.month\n",
    "data['year'] = data.pickup_datetime.dt.year\n",
    "data['dayofweek'] = data.pickup_datetime.dt.dayofweek"
   ]
  },
  {
   "cell_type": "code",
   "execution_count": 37,
   "metadata": {
    "id": "iVoYkOUXi-o3"
   },
   "outputs": [
    {
     "name": "stderr",
     "output_type": "stream",
     "text": [
      "C:\\Users\\ganes\\AppData\\Local\\Temp\\ipykernel_14672\\3558115741.py:4: FutureWarning: Boolean inputs to the `inclusive` argument are deprecated in favour of `both` or `neither`.\n",
      "  (data['pickup_latitude'].between(-90, 90, inclusive=True) &\n",
      "C:\\Users\\ganes\\AppData\\Local\\Temp\\ipykernel_14672\\3558115741.py:5: FutureWarning: Boolean inputs to the `inclusive` argument are deprecated in favour of `both` or `neither`.\n",
      "  data['pickup_longitude'].between(-180, 180, inclusive=True) &\n",
      "C:\\Users\\ganes\\AppData\\Local\\Temp\\ipykernel_14672\\3558115741.py:6: FutureWarning: Boolean inputs to the `inclusive` argument are deprecated in favour of `both` or `neither`.\n",
      "  data['dropoff_latitude'].between(-90, 90, inclusive=True) &\n",
      "C:\\Users\\ganes\\AppData\\Local\\Temp\\ipykernel_14672\\3558115741.py:7: FutureWarning: Boolean inputs to the `inclusive` argument are deprecated in favour of `both` or `neither`.\n",
      "  data['dropoff_longitude'].between(-180, 180, inclusive=True)\n"
     ]
    }
   ],
   "source": [
    "#modifying columns\n",
    "data.drop(['Unnamed: 0', 'key', 'pickup_datetime'], axis=1, inplace=True)\n",
    "data = data[\n",
    "    (data['pickup_latitude'].between(-90, 90, inclusive=True) &\n",
    "     data['pickup_longitude'].between(-180, 180, inclusive=True) &\n",
    "     data['dropoff_latitude'].between(-90, 90, inclusive=True) &\n",
    "     data['dropoff_longitude'].between(-180, 180, inclusive=True)\n",
    "    )\n",
    "]"
   ]
  },
  {
   "cell_type": "code",
   "execution_count": 42,
   "metadata": {
    "id": "C7ZsPQyFxOIJ"
   },
   "outputs": [],
   "source": [
    "#calculating distance\n",
    "dist = []\n",
    "for i, row in data.iterrows():\n",
    "    coord1 = (row['pickup_latitude'], row['pickup_longitude'])\n",
    "    coord2 = (row['dropoff_latitude'], row['dropoff_longitude'])\n",
    "    distance = haversine(coord1, coord2)\n",
    "    dist.append(distance)\n",
    "\n",
    "data['distance'] = dist"
   ]
  },
  {
   "cell_type": "code",
   "execution_count": 43,
   "metadata": {
    "colab": {
     "base_uri": "https://localhost:8080/",
     "height": 447
    },
    "id": "E-r8NXQ3nkDA",
    "outputId": "2ad536e8-7f52-40b8-be32-7c60559cfa95"
   },
   "outputs": [
    {
     "data": {
      "text/plain": [
       "<AxesSubplot:>"
      ]
     },
     "execution_count": 43,
     "metadata": {},
     "output_type": "execute_result"
    },
    {
     "data": {
      "image/png": "[encoded data removed]",
      "text/plain": [
       "<Figure size 640x480 with 1 Axes>"
      ]
     },
     "metadata": {},
     "output_type": "display_data"
    }
   ],
   "source": [
    "sns.boxplot(data=data)"
   ]
  },
  {
   "cell_type": "code",
   "execution_count": 45,
   "metadata": {
    "id": "PPcesAX2ngWn"
   },
   "outputs": [],
   "source": [
    "# Outlier Detection (IQR method)\n",
    "for column in data.columns:\n",
    "    Q1 = data[column].quantile(0.25)\n",
    "    Q3 = data[column].quantile(0.75)\n",
    "    IQR = Q3 - Q1\n",
    "    lower_bound = Q1 - 1.5 * IQR\n",
    "    upper_bound = Q3 + 1.5 * IQR\n",
    "    data = data[(data[column] >= lower_bound) & (data[column] <= upper_bound)]"
   ]
  },
  {
   "cell_type": "code",
   "execution_count": 46,
   "metadata": {
    "colab": {
     "base_uri": "https://localhost:8080/",
     "height": 447
    },
    "id": "B53qcVC9nsb_",
    "outputId": "e2fe55f7-f363-4907-811a-b4c05bd2e817"
   },
   "outputs": [
    {
     "data": {
      "text/plain": [
       "<AxesSubplot:>"
      ]
     },
     "execution_count": 46,
     "metadata": {},
     "output_type": "execute_result"
    },
    {
     "data": {
      "image/png": "[encoded data removed]",
      "text/plain": [
       "<Figure size 640x480 with 1 Axes>"
      ]
     },
     "metadata": {},
     "output_type": "display_data"
    }
   ],
   "source": [
    "sns.boxplot(data=data)"
   ]
  },
  {
   "cell_type": "code",
   "execution_count": 47,
   "metadata": {
    "colab": {
     "base_uri": "https://localhost:8080/",
     "height": 446
    },
    "id": "wOf7wO6XDCRF",
    "outputId": "9813c791-a7d9-4641-f6c6-d13a15d6391e"
   },
   "outputs": [
    {
     "data": {
      "text/html": [
       "<div>\n",
       "<style scoped>\n",
       "    .dataframe tbody tr th:only-of-type {\n",
       "        vertical-align: middle;\n",
       "    }\n",
       "\n",
       "    .dataframe tbody tr th {\n",
       "        vertical-align: top;\n",
       "    }\n",
       "\n",
       "    .dataframe thead th {\n",
       "        text-align: right;\n",
       "    }\n",
       "</style>\n",
       "<table border=\"1\" class=\"dataframe\">\n",
       "  <thead>\n",
       "    <tr style=\"text-align: right;\">\n",
       "      <th></th>\n",
       "      <th>fare_amount</th>\n",
       "      <th>pickup_longitude</th>\n",
       "      <th>pickup_latitude</th>\n",
       "      <th>dropoff_longitude</th>\n",
       "      <th>dropoff_latitude</th>\n",
       "      <th>passenger_count</th>\n",
       "      <th>hour</th>\n",
       "      <th>day</th>\n",
       "      <th>month</th>\n",
       "      <th>year</th>\n",
       "      <th>dayofweek</th>\n",
       "      <th>distance</th>\n",
       "    </tr>\n",
       "  </thead>\n",
       "  <tbody>\n",
       "    <tr>\n",
       "      <th>fare_amount</th>\n",
       "      <td>1.000000</td>\n",
       "      <td>-0.051103</td>\n",
       "      <td>-0.067280</td>\n",
       "      <td>-0.028105</td>\n",
       "      <td>-0.099358</td>\n",
       "      <td>0.019949</td>\n",
       "      <td>0.016920</td>\n",
       "      <td>0.008092</td>\n",
       "      <td>0.034040</td>\n",
       "      <td>0.181041</td>\n",
       "      <td>0.005611</td>\n",
       "      <td>0.768790</td>\n",
       "    </tr>\n",
       "    <tr>\n",
       "      <th>pickup_longitude</th>\n",
       "      <td>-0.051103</td>\n",
       "      <td>1.000000</td>\n",
       "      <td>0.684995</td>\n",
       "      <td>0.479122</td>\n",
       "      <td>0.432731</td>\n",
       "      <td>-0.022164</td>\n",
       "      <td>0.013242</td>\n",
       "      <td>-0.004813</td>\n",
       "      <td>-0.002125</td>\n",
       "      <td>-0.002933</td>\n",
       "      <td>-0.037083</td>\n",
       "      <td>-0.046987</td>\n",
       "    </tr>\n",
       "    <tr>\n",
       "      <th>pickup_latitude</th>\n",
       "      <td>-0.067280</td>\n",
       "      <td>0.684995</td>\n",
       "      <td>1.000000</td>\n",
       "      <td>0.409443</td>\n",
       "      <td>0.603651</td>\n",
       "      <td>-0.018919</td>\n",
       "      <td>0.033446</td>\n",
       "      <td>-0.002224</td>\n",
       "      <td>0.002790</td>\n",
       "      <td>-0.001831</td>\n",
       "      <td>-0.053924</td>\n",
       "      <td>-0.054465</td>\n",
       "    </tr>\n",
       "    <tr>\n",
       "      <th>dropoff_longitude</th>\n",
       "      <td>-0.028105</td>\n",
       "      <td>0.479122</td>\n",
       "      <td>0.409443</td>\n",
       "      <td>1.000000</td>\n",
       "      <td>0.640008</td>\n",
       "      <td>-0.019883</td>\n",
       "      <td>0.003518</td>\n",
       "      <td>-0.010470</td>\n",
       "      <td>-0.004523</td>\n",
       "      <td>0.003419</td>\n",
       "      <td>-0.034493</td>\n",
       "      <td>0.006737</td>\n",
       "    </tr>\n",
       "    <tr>\n",
       "      <th>dropoff_latitude</th>\n",
       "      <td>-0.099358</td>\n",
       "      <td>0.432731</td>\n",
       "      <td>0.603651</td>\n",
       "      <td>0.640008</td>\n",
       "      <td>1.000000</td>\n",
       "      <td>-0.016634</td>\n",
       "      <td>0.029709</td>\n",
       "      <td>-0.006788</td>\n",
       "      <td>0.000026</td>\n",
       "      <td>-0.000364</td>\n",
       "      <td>-0.046046</td>\n",
       "      <td>-0.045606</td>\n",
       "    </tr>\n",
       "    <tr>\n",
       "      <th>passenger_count</th>\n",
       "      <td>0.019949</td>\n",
       "      <td>-0.022164</td>\n",
       "      <td>-0.018919</td>\n",
       "      <td>-0.019883</td>\n",
       "      <td>-0.016634</td>\n",
       "      <td>1.000000</td>\n",
       "      <td>0.035125</td>\n",
       "      <td>0.000532</td>\n",
       "      <td>0.006733</td>\n",
       "      <td>-0.021542</td>\n",
       "      <td>0.065259</td>\n",
       "      <td>0.013676</td>\n",
       "    </tr>\n",
       "    <tr>\n",
       "      <th>hour</th>\n",
       "      <td>0.016920</td>\n",
       "      <td>0.013242</td>\n",
       "      <td>0.033446</td>\n",
       "      <td>0.003518</td>\n",
       "      <td>0.029709</td>\n",
       "      <td>0.035125</td>\n",
       "      <td>1.000000</td>\n",
       "      <td>0.002674</td>\n",
       "      <td>-0.003233</td>\n",
       "      <td>0.005400</td>\n",
       "      <td>-0.076643</td>\n",
       "      <td>0.001254</td>\n",
       "    </tr>\n",
       "    <tr>\n",
       "      <th>day</th>\n",
       "      <td>0.008092</td>\n",
       "      <td>-0.004813</td>\n",
       "      <td>-0.002224</td>\n",
       "      <td>-0.010470</td>\n",
       "      <td>-0.006788</td>\n",
       "      <td>0.000532</td>\n",
       "      <td>0.002674</td>\n",
       "      <td>1.000000</td>\n",
       "      <td>-0.017691</td>\n",
       "      <td>-0.009231</td>\n",
       "      <td>0.006327</td>\n",
       "      <td>0.008588</td>\n",
       "    </tr>\n",
       "    <tr>\n",
       "      <th>month</th>\n",
       "      <td>0.034040</td>\n",
       "      <td>-0.002125</td>\n",
       "      <td>0.002790</td>\n",
       "      <td>-0.004523</td>\n",
       "      <td>0.000026</td>\n",
       "      <td>0.006733</td>\n",
       "      <td>-0.003233</td>\n",
       "      <td>-0.017691</td>\n",
       "      <td>1.000000</td>\n",
       "      <td>-0.114975</td>\n",
       "      <td>-0.009256</td>\n",
       "      <td>0.006404</td>\n",
       "    </tr>\n",
       "    <tr>\n",
       "      <th>year</th>\n",
       "      <td>0.181041</td>\n",
       "      <td>-0.002933</td>\n",
       "      <td>-0.001831</td>\n",
       "      <td>0.003419</td>\n",
       "      <td>-0.000364</td>\n",
       "      <td>-0.021542</td>\n",
       "      <td>0.005400</td>\n",
       "      <td>-0.009231</td>\n",
       "      <td>-0.114975</td>\n",
       "      <td>1.000000</td>\n",
       "      <td>0.007258</td>\n",
       "      <td>-0.002196</td>\n",
       "    </tr>\n",
       "    <tr>\n",
       "      <th>dayofweek</th>\n",
       "      <td>0.005611</td>\n",
       "      <td>-0.037083</td>\n",
       "      <td>-0.053924</td>\n",
       "      <td>-0.034493</td>\n",
       "      <td>-0.046046</td>\n",
       "      <td>0.065259</td>\n",
       "      <td>-0.076643</td>\n",
       "      <td>0.006327</td>\n",
       "      <td>-0.009256</td>\n",
       "      <td>0.007258</td>\n",
       "      <td>1.000000</td>\n",
       "      <td>0.030105</td>\n",
       "    </tr>\n",
       "    <tr>\n",
       "      <th>distance</th>\n",
       "      <td>0.768790</td>\n",
       "      <td>-0.046987</td>\n",
       "      <td>-0.054465</td>\n",
       "      <td>0.006737</td>\n",
       "      <td>-0.045606</td>\n",
       "      <td>0.013676</td>\n",
       "      <td>0.001254</td>\n",
       "      <td>0.008588</td>\n",
       "      <td>0.006404</td>\n",
       "      <td>-0.002196</td>\n",
       "      <td>0.030105</td>\n",
       "      <td>1.000000</td>\n",
       "    </tr>\n",
       "  </tbody>\n",
       "</table>\n",
       "</div>"
      ],
      "text/plain": [
       "                   fare_amount  pickup_longitude  pickup_latitude  \\\n",
       "fare_amount           1.000000         -0.051103        -0.067280   \n",
       "pickup_longitude     -0.051103          1.000000         0.684995   \n",
       "pickup_latitude      -0.067280          0.684995         1.000000   \n",
       "dropoff_longitude    -0.028105          0.479122         0.409443   \n",
       "dropoff_latitude     -0.099358          0.432731         0.603651   \n",
       "passenger_count       0.019949         -0.022164        -0.018919   \n",
       "hour                  0.016920          0.013242         0.033446   \n",
       "day                   0.008092         -0.004813        -0.002224   \n",
       "month                 0.034040         -0.002125         0.002790   \n",
       "year                  0.181041         -0.002933        -0.001831   \n",
       "dayofweek             0.005611         -0.037083        -0.053924   \n",
       "distance              0.768790         -0.046987        -0.054465   \n",
       "\n",
       "                   dropoff_longitude  dropoff_latitude  passenger_count  \\\n",
       "fare_amount                -0.028105         -0.099358         0.019949   \n",
       "pickup_longitude            0.479122          0.432731        -0.022164   \n",
       "pickup_latitude             0.409443          0.603651        -0.018919   \n",
       "dropoff_longitude           1.000000          0.640008        -0.019883   \n",
       "dropoff_latitude            0.640008          1.000000        -0.016634   \n",
       "passenger_count            -0.019883         -0.016634         1.000000   \n",
       "hour                        0.003518          0.029709         0.035125   \n",
       "day                        -0.010470         -0.006788         0.000532   \n",
       "month                      -0.004523          0.000026         0.006733   \n",
       "year                        0.003419         -0.000364        -0.021542   \n",
       "dayofweek                  -0.034493         -0.046046         0.065259   \n",
       "distance                    0.006737         -0.045606         0.013676   \n",
       "\n",
       "                       hour       day     month      year  dayofweek  distance  \n",
       "fare_amount        0.016920  0.008092  0.034040  0.181041   0.005611  0.768790  \n",
       "pickup_longitude   0.013242 -0.004813 -0.002125 -0.002933  -0.037083 -0.046987  \n",
       "pickup_latitude    0.033446 -0.002224  0.002790 -0.001831  -0.053924 -0.054465  \n",
       "dropoff_longitude  0.003518 -0.010470 -0.004523  0.003419  -0.034493  0.006737  \n",
       "dropoff_latitude   0.029709 -0.006788  0.000026 -0.000364  -0.046046 -0.045606  \n",
       "passenger_count    0.035125  0.000532  0.006733 -0.021542   0.065259  0.013676  \n",
       "hour               1.000000  0.002674 -0.003233  0.005400  -0.076643  0.001254  \n",
       "day                0.002674  1.000000 -0.017691 -0.009231   0.006327  0.008588  \n",
       "month             -0.003233 -0.017691  1.000000 -0.114975  -0.009256  0.006404  \n",
       "year               0.005400 -0.009231 -0.114975  1.000000   0.007258 -0.002196  \n",
       "dayofweek         -0.076643  0.006327 -0.009256  0.007258   1.000000  0.030105  \n",
       "distance           0.001254  0.008588  0.006404 -0.002196   0.030105  1.000000  "
      ]
     },
     "execution_count": 47,
     "metadata": {},
     "output_type": "execute_result"
    }
   ],
   "source": [
    "#check correlation\n",
    "corr_matrix = data.corr()\n",
    "corr_matrix"
   ]
  },
  {
   "cell_type": "code",
   "execution_count": 48,
   "metadata": {
    "id": "R30PZpOw_hfM"
   },
   "outputs": [],
   "source": [
    "# Split the data into training and testing sets\n",
    "X = data[['pickup_longitude', 'pickup_latitude', 'dropoff_longitude', 'dropoff_latitude', 'passenger_count','hour','day','month','year','dayofweek','distance']]\n",
    "y = data['fare_amount']\n",
    "X_train, X_test, y_train, y_test = train_test_split(X, y, test_size=0.3, random_state=42)"
   ]
  },
  {
   "cell_type": "code",
   "execution_count": 49,
   "metadata": {
    "id": "JbHlxhHK_vIV"
   },
   "outputs": [],
   "source": [
    "# Linear Regression\n",
    "lr_model = LinearRegression()\n",
    "lr_model.fit(X_train, y_train)\n",
    "lr_predictions = lr_model.predict(X_test)"
   ]
  },
  {
   "cell_type": "code",
   "execution_count": 50,
   "metadata": {
    "id": "sGBcJaro_zh5"
   },
   "outputs": [],
   "source": [
    "# Random Forest Regression\n",
    "rf_model = RandomForestRegressor()\n",
    "rf_model.fit(X_train, y_train)\n",
    "rf_predictions = rf_model.predict(X_test)"
   ]
  },
  {
   "cell_type": "code",
   "execution_count": 51,
   "metadata": {
    "colab": {
     "base_uri": "https://localhost:8080/"
    },
    "id": "eb5tV8io__J8",
    "outputId": "fde868e0-fd54-4fba-f058-4a84809b0ecb"
   },
   "outputs": [
    {
     "name": "stdout",
     "output_type": "stream",
     "text": [
      "Linear Regression Results:\n",
      "R2 Score: 0.6336441989088737\n",
      "RMSE: 2.103764573138168\n",
      "\n",
      "Random Forest Regression Results:\n",
      "R2 Score: 0.7196353722183784\n",
      "RMSE: 1.840378754167259\n"
     ]
    }
   ],
   "source": [
    "# Evaluate models\n",
    "lr_r2 = r2_score(y_test, lr_predictions)\n",
    "lr_rmse = np.sqrt(mean_squared_error(y_test, lr_predictions))\n",
    "\n",
    "rf_r2 = r2_score(y_test, rf_predictions)\n",
    "rf_rmse = np.sqrt(mean_squared_error(y_test, rf_predictions))\n",
    "\n",
    "print(\"Linear Regression Results:\")\n",
    "print(f\"R2 Score: {lr_r2}\")\n",
    "print(f\"RMSE: {lr_rmse}\")\n",
    "\n",
    "print(\"\\nRandom Forest Regression Results:\")\n",
    "print(f\"R2 Score: {rf_r2}\")\n",
    "print(f\"RMSE: {rf_rmse}\")"
   ]
  },
  {
   "cell_type": "code",
   "execution_count": null,
   "metadata": {},
   "outputs": [],
   "source": []
  },
  {
   "cell_type": "code",
   "execution_count": null,
   "metadata": {},
   "outputs": [],
   "source": []
  }
 ],
 "metadata": {
  "colab": {
   "provenance": []
  },
  "kernelspec": {
   "display_name": "Python 3 (ipykernel)",
   "language": "python",
   "name": "python3"
  },
  "language_info": {
   "codemirror_mode": {
    "name": "ipython",
    "version": 3
   },
   "file_extension": ".py",
   "mimetype": "text/x-python",
   "name": "python",
   "nbconvert_exporter": "python",
   "pygments_lexer": "ipython3",
   "version": "3.9.13"
  }
 },
 "nbformat": 4,
 "nbformat_minor": 4
}
